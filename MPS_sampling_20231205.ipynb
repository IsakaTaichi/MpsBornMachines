{
 "cells": [
  {
   "cell_type": "markdown",
   "id": "0f19fe82",
   "metadata": {},
   "source": [
    "MPS Born machines"
   ]
  },
  {
   "cell_type": "markdown",
   "id": "1b560536",
   "metadata": {},
   "source": [
    "Unsupervised Generative Modeling Using Matrix Product States  \n",
    "論文  \n",
    "https://arxiv.org/pdf/1709.01662.pdf  \n",
    "github  \n",
    "https://github.com/congzlwag/UnsupGenModbyMPS   \n"
   ]
  },
  {
   "cell_type": "markdown",
   "id": "a7966840",
   "metadata": {},
   "source": [
    "データ$x$の確率分布  \n",
    "$$\n",
    "p(x)=\\frac{|\\psi(x)|^2}{z}\n",
    "$$\n",
    "\n",
    "$\\psi(x)$は、$A_{v_i}^{(i)}$のMPS状態  \n",
    "$$\n",
    "\\psi(x) = Tr(A_{v_1}^{(1)}A_{v_2}^{(2)}A_{v_3}^{(3)} ...A_{v_n}^{(n)})\n",
    "$$\n",
    "\n",
    "データセットの負の対数尤度LLMを誤差関数として、パラメータ更新する  \n",
    "\n",
    "$$\n",
    "L = - \\sum_i \\frac{1}{|T|} ln p(x_i)\n",
    "$$"
   ]
  },
  {
   "cell_type": "markdown",
   "id": "7a0fb18b",
   "metadata": {},
   "source": [
    "データ生成  \n",
    "初期データ$x_0$のデータから、データ$x_1$を生成  \n",
    "$x_0$から1ビットのデータを反転したデータを$x_1$とする。  \n",
    "\n",
    "MPSからデータの出現確率を計算して、  \n",
    "$\\psi(x_1)/\\psi(x_0)>1$ならば状態遷移する。    \n",
    "そうでなければ0～1の一様乱数rから$\\psi(x_1)/\\psi(x_0) < r$であれば、$x_1$に遷移する。  "
   ]
  },
  {
   "cell_type": "markdown",
   "id": "638b4c2a",
   "metadata": {},
   "source": [
    "BASデータセットの作成"
   ]
  },
  {
   "cell_type": "code",
   "execution_count": 1,
   "id": "8eb2aa18",
   "metadata": {
    "scrolled": true
   },
   "outputs": [
    {
     "name": "stdout",
     "output_type": "stream",
     "text": [
      "torch.Size([100, 9])\n"
     ]
    },
    {
     "data": {
      "image/png": "[encoded data removed]",
      "text/plain": [
       "<Figure size 1200x600 with 100 Axes>"
      ]
     },
     "metadata": {},
     "output_type": "display_data"
    }
   ],
   "source": [
    "import numpy as np\n",
    "import torch\n",
    "import matplotlib.pyplot as plt\n",
    "#device = torch.device(\"cuda\" if torch.cuda.is_available() else \"cpu\")\n",
    "#torch.manual_seed(100)\n",
    "#np.random.seed(seed=100)\n",
    "\n",
    "#3×3 BASデータセット\n",
    "t = torch.tensor([[1,1,1,0,0,0,0,0,0],\n",
    "                  [0,0,0,1,1,1,0,0,0],\n",
    "                  [0,0,0,0,0,0,1,1,1],\n",
    "                  [1,0,0,1,0,0,1,0,0],\n",
    "                  [0,1,0,0,1,0,0,1,0],\n",
    "                  [0,0,1,0,0,1,0,0,1],\n",
    "                  [1,1,1,1,1,1,0,0,0],\n",
    "                  [1,1,1,0,0,0,1,1,1],\n",
    "                  [0,0,0,1,1,1,1,1,1],\n",
    "                  [0,1,1,0,1,1,0,1,1],\n",
    "                  [1,1,0,1,1,0,1,1,0],\n",
    "                  [1,0,1,1,0,1,1,0,1]])\n",
    "\n",
    "#データセット作成\n",
    "x = torch.zeros((100,9))\n",
    "for i in range(100):\n",
    "    r = torch.randint(low=0, high=12, size=(1,))\n",
    "    x[i] = t[r]\n",
    "\n",
    "    \n",
    "print(x.shape)\n",
    "fig = plt.figure(figsize=(12,6))\n",
    "fig.subplots_adjust(left=0.075,right=0.95,bottom=0.05,top=0.50,wspace=0.15,hspace=0.10)\n",
    "\n",
    "axs = []\n",
    "for i in range(100):\n",
    "    axs.append(fig.add_subplot(5, 20, i+1))\n",
    "    axs[-1].imshow(x[i].reshape(3, 3))\n",
    "    axｓ[-1].axis(\"off\")"
   ]
  },
  {
   "cell_type": "markdown",
   "id": "8543951e",
   "metadata": {},
   "source": [
    "学習 loss確認"
   ]
  },
  {
   "cell_type": "code",
   "execution_count": 2,
   "id": "6ce27ed9",
   "metadata": {
    "scrolled": true
   },
   "outputs": [
    {
     "name": "stdout",
     "output_type": "stream",
     "text": [
      "Loss =  2.4680855\n"
     ]
    },
    {
     "data": {
      "text/plain": [
       "[<matplotlib.lines.Line2D at 0x7f98911ded40>]"
      ]
     },
     "execution_count": 2,
     "metadata": {},
     "output_type": "execute_result"
    },
    {
     "data": {
      "image/png": "[encoded data removed]",
      "text/plain": [
       "<Figure size 640x480 with 1 Axes>"
      ]
     },
     "metadata": {},
     "output_type": "display_data"
    }
   ],
   "source": [
    "import mps_born_machines \n",
    "torch.manual_seed(100)\n",
    "np.random.seed(100)\n",
    "device = torch.device(\"cuda\" if torch.cuda.is_available() else \"cpu\")\n",
    "\n",
    "model = mps_born_machines.mps_born_machines (x_num=9,b=10,lr=0.1)\n",
    "epoch=100\n",
    "loss_reg = []\n",
    "for i in range(epoch):\n",
    "    loss = model.learn(x)\n",
    "    loss_reg.append(loss)\n",
    "#表示\n",
    "print('Loss = ',loss_reg[epoch-1])\n",
    "plt.plot(loss_reg)"
   ]
  },
  {
   "cell_type": "markdown",
   "id": "71d30287",
   "metadata": {},
   "source": [
    "サンプリング"
   ]
  },
  {
   "cell_type": "code",
   "execution_count": 3,
   "id": "c5997466",
   "metadata": {
    "scrolled": true
   },
   "outputs": [
    {
     "data": {
      "image/png": "[encoded data removed]",
      "text/plain": [
       "<Figure size 1200x600 with 100 Axes>"
      ]
     },
     "metadata": {},
     "output_type": "display_data"
    }
   ],
   "source": [
    "torch.manual_seed(100)\n",
    "np.random.seed(100)\n",
    "\n",
    "#サンプリングデータ格納用\n",
    "x0 = torch.zeros((100,9))   # 初期データ\n",
    "x1 = model.generate(x0,step=1000) # データ生成\n",
    "\n",
    "#表示\n",
    "fig = plt.figure(figsize=(12,6))\n",
    "fig.subplots_adjust(left=0.075,right=0.95,bottom=0.05,top=0.50,wspace=0.15,hspace=0.10)\n",
    "\n",
    "axs = []\n",
    "for i in range(100):\n",
    "    axs.append(fig.add_subplot(5, 20, i+1))\n",
    "    axs[-1].imshow(x1[i].reshape(3, 3))\n",
    "    axｓ[-1].axis(\"off\")"
   ]
  },
  {
   "cell_type": "markdown",
   "id": "43699ebe",
   "metadata": {},
   "source": [
    "出現頻度チェック"
   ]
  },
  {
   "cell_type": "code",
   "execution_count": 30,
   "id": "0e55a13e",
   "metadata": {},
   "outputs": [
    {
     "name": "stdout",
     "output_type": "stream",
     "text": [
      "[21.  6.  5. 24. 16. 17.  1.  0.  1.  1.  5.  3.]\n"
     ]
    },
    {
     "data": {
      "text/plain": [
       "<BarContainer object of 12 artists>"
      ]
     },
     "execution_count": 30,
     "metadata": {},
     "output_type": "execute_result"
    },
    {
     "data": {
      "image/png": "[encoded data removed]",
      "text/plain": [
       "<Figure size 432x288 with 1 Axes>"
      ]
     },
     "metadata": {
      "needs_background": "light"
     },
     "output_type": "display_data"
    }
   ],
   "source": [
    "bas_chk=np.zeros(12)\n",
    "for i in range(100):\n",
    "    if (x1[i] == t[0]).all() == True:\n",
    "        bas_chk[0] +=1 \n",
    "    if (x1[i] == t[1]).all() == True:\n",
    "            bas_chk[1] +=1 \n",
    "    if (x1[i] == t[2]).all() == True:\n",
    "        bas_chk[2] +=1 \n",
    "    if (x1[i] == t[3]).all() == True:\n",
    "        bas_chk[3] +=1 \n",
    "    if (x1[i] == t[4]).all() == True:\n",
    "        bas_chk[4] +=1 \n",
    "    if (x1[i] == t[5]).all() == True:\n",
    "        bas_chk[5] +=1 \n",
    "    if (x1[i] == t[6]).all() == True:\n",
    "        bas_chk[6] +=1 \n",
    "    if (x1[i] == t[7]).all() == True:\n",
    "        bas_chk[7] +=1 \n",
    "    if (x1[i] == t[8]).all() == True:\n",
    "        bas_chk[8] +=1 \n",
    "    if (x1[i] == t[9]).all() == True:\n",
    "        bas_chk[9] +=1 \n",
    "    if (x1[i] == t[10]).all() == True:\n",
    "        bas_chk[10] +=1 \n",
    "    if (x1[i] == t[11]).all() == True:\n",
    "        bas_chk[11] +=1 \n",
    "\n",
    "left = np.array([0,1, 2, 3, 4, 5,6,7,8,9,10,11])\n",
    "print(bas_chk)\n",
    "plt.bar(left, bas_chk)"
   ]
  },
  {
   "cell_type": "code",
   "execution_count": null,
   "id": "06bff3b2",
   "metadata": {},
   "outputs": [],
   "source": []
  },
  {
   "cell_type": "code",
   "execution_count": null,
   "id": "f78118a0",
   "metadata": {},
   "outputs": [],
   "source": []
  }
 ],
 "metadata": {
  "kernelspec": {
   "display_name": "Python 3 (ipykernel)",
   "language": "python",
   "name": "python3"
  },
  "language_info": {
   "codemirror_mode": {
    "name": "ipython",
    "version": 3
   },
   "file_extension": ".py",
   "mimetype": "text/x-python",
   "name": "python",
   "nbconvert_exporter": "python",
   "pygments_lexer": "ipython3",
   "version": "3.10.13"
  }
 },
 "nbformat": 4,
 "nbformat_minor": 5
}
